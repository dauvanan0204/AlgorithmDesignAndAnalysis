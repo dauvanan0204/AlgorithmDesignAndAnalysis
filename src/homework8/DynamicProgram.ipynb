{
 "cells": [
  {
   "cell_type": "markdown",
   "metadata": {},
   "source": [
    "Biến đổi xâu"
   ]
  },
  {
   "cell_type": "code",
   "execution_count": 7,
   "metadata": {},
   "outputs": [
    {
     "name": "stdout",
     "output_type": "stream",
     "text": [
      "Độ dài của xâu con chung dài nhất là: 4\n"
     ]
    }
   ],
   "source": [
    "def longest_common_subsequence(X, Y):\n",
    "    m = len(X)\n",
    "    n = len(Y)\n",
    "\n",
    "    # Khởi tạo hai mảng 1 chiều P và L với kích thước n+1\n",
    "    P = [0] * (n + 1)\n",
    "    L = [0] * (n + 1)\n",
    "\n",
    "    for i in range(1, m + 1):\n",
    "        # Đặt L[0] = 0 cho mỗi hàng mới\n",
    "        L[0] = 0\n",
    "        for j in range(1, n + 1):\n",
    "            if X[i - 1] == Y[j - 1]:\n",
    "                L[j] = P[j - 1] + 1\n",
    "            else:\n",
    "                L[j] = max(P[j], L[j - 1])\n",
    "        # Cập nhật P thành L cho lần lặp tiếp theo\n",
    "        P = L[:]\n",
    "\n",
    "    return L[n]\n",
    "\n",
    "# Ví dụ sử dụng:\n",
    "X = \"ABCBDAB\"\n",
    "Y = \"BDCAB\"\n",
    "print(\"Độ dài của xâu con chung dài nhất là:\", longest_common_subsequence(X, Y))\n"
   ]
  },
  {
   "cell_type": "code",
   "execution_count": 5,
   "metadata": {},
   "outputs": [
    {
     "name": "stdout",
     "output_type": "stream",
     "text": [
      "Pairs of matching cities to build non-crossing bridges: [(1, 1), (2, 2), (3, 4), (4, 5), (5, 6)]\n"
     ]
    }
   ],
   "source": [
    "def build_bridges(M, N, matching_pairs):\n",
    "    # Initialize a 2D array L to store the lengths of the longest common subsequences\n",
    "    L = [[0] * (N + 1) for _ in range(M + 1)]\n",
    "    \n",
    "    # Compute the L table using dynamic programming\n",
    "    for i in range(1, M + 1):\n",
    "        for j in range(1, N + 1):\n",
    "            if (i, j) in matching_pairs:\n",
    "                L[i][j] = L[i-1][j-1] + 1\n",
    "            else:\n",
    "                L[i][j] = max(L[i-1][j], L[i][j-1])\n",
    "    \n",
    "    # Find the longest common subsequence from the L table\n",
    "    i, j = M, N\n",
    "    result = []\n",
    "    while i > 0 and j > 0:\n",
    "        if (i, j) in matching_pairs:\n",
    "            result.append((i, j))\n",
    "            i -= 1\n",
    "            j -= 1\n",
    "        elif L[i-1][j] >= L[i][j-1]:\n",
    "            i -= 1\n",
    "        else:\n",
    "            j -= 1\n",
    "    \n",
    "    # The common subsequence must be reversed since we add from the end of the L table\n",
    "    result.reverse()\n",
    "    \n",
    "    return result\n",
    "\n",
    "# Example usage:\n",
    "M = 5  # Number of cities in Alpha\n",
    "N = 6  # Number of cities in Beta\n",
    "matching_pairs = {(1, 1), (1, 3), (2, 2), (3, 4), (4, 5), (5, 6)}\n",
    "\n",
    "# The result is a list of pairs of matching cities where the bridges can be built\n",
    "max_bridges = build_bridges(M, N, matching_pairs)\n",
    "print(\"Pairs of matching cities to build non-crossing bridges:\", max_bridges)\n"
   ]
  },
  {
   "cell_type": "code",
   "execution_count": 10,
   "metadata": {},
   "outputs": [
    {
     "name": "stdout",
     "output_type": "stream",
     "text": [
      "Minimum insertions to make the string a palindrome: 2\n"
     ]
    }
   ],
   "source": [
    "def longest_common_subsequence(X, Y):\n",
    "  m = len(X)\n",
    "  n = len(Y)\n",
    "\n",
    "  # Create a 2D array to store lengths of longest common subsequence\n",
    "  L = [[0] * (n + 1) for _ in range(m + 1)]\n",
    "\n",
    "  # Build the L array in bottom-up fashion\n",
    "  for i in range(1, m + 1):\n",
    "    for j in range(1, n + 1):\n",
    "      if X[i - 1] == Y[j - 1]:\n",
    "        L[i][j] = L[i - 1][j - 1] + 1\n",
    "      else:\n",
    "        L[i][j] = max(L[i - 1][j], L[i][j - 1])\n",
    "\n",
    "  return L[m][n]\n",
    "\n",
    "def min_insertions_to_make_palindrome(S):\n",
    "  # Reverse the string to create P\n",
    "  P = S[::-1]\n",
    "\n",
    "  # Find the length of the longest common subsequence of S and P\n",
    "  lcs_length = longest_common_subsequence(S, P)\n",
    "\n",
    "  # The minimum number of insertions needed\n",
    "  return len(S) - lcs_length\n",
    "\n",
    "# Example usage:\n",
    "S = \"aabd\"\n",
    "print(\"Minimum insertions to make the string a palindrome:\", min_insertions_to_make_palindrome(S))\n"
   ]
  }
 ],
 "metadata": {
  "kernelspec": {
   "display_name": "Python 3",
   "language": "python",
   "name": "python3"
  },
  "language_info": {
   "codemirror_mode": {
    "name": "ipython",
    "version": 3
   },
   "file_extension": ".py",
   "mimetype": "text/x-python",
   "name": "python",
   "nbconvert_exporter": "python",
   "pygments_lexer": "ipython3",
   "version": "3.10.1"
  }
 },
 "nbformat": 4,
 "nbformat_minor": 2
}
