{
 "cells": [
  {
   "cell_type": "code",
   "execution_count": 64,
   "metadata": {},
   "outputs": [],
   "source": [
    "w = [2 ,1 ,2 ,1]\n",
    "v = [3 ,2 ,2 ,1]\n",
    "limit = 4\n",
    "\n",
    "result = [[0] * (limit + 1) for _ in range(len(v) + 1)]\n",
    "\n"
   ]
  },
  {
   "cell_type": "code",
   "execution_count": 65,
   "metadata": {},
   "outputs": [],
   "source": [
    "for i in range(1 , len(v) + 1):\n",
    "    for j in range(1 ,limit + 1):\n",
    "        if j < w[i - 1]:\n",
    "            result[i][j] = result[i-1][j]\n",
    "        else:\n",
    "            result[i][j] = max(result[i-1][j] ,result[i-1][j - w[i-1]] + v[i-1])"
   ]
  },
  {
   "cell_type": "code",
   "execution_count": 66,
   "metadata": {},
   "outputs": [
    {
     "data": {
      "text/plain": [
       "[[0, 0, 0, 0, 0],\n",
       " [0, 0, 3, 3, 3],\n",
       " [0, 2, 3, 5, 5],\n",
       " [0, 2, 3, 5, 5],\n",
       " [0, 2, 3, 5, 6]]"
      ]
     },
     "execution_count": 66,
     "metadata": {},
     "output_type": "execute_result"
    }
   ],
   "source": [
    "result"
   ]
  },
  {
   "cell_type": "code",
   "execution_count": 67,
   "metadata": {},
   "outputs": [],
   "source": [
    "n = len(v) \n",
    "choose = []\n",
    "while limit > 0 and n > 0:\n",
    "    if result[limit][n] == result[limit - 1][n]:\n",
    "        limit = limit - 1\n",
    "        continue\n",
    "    if result[limit][n] == (result[limit - 1][n - w[limit - 1]] + v[limit - 1]):\n",
    "        choose.append(limit)\n",
    "        n = n - w[limit - 1]\n",
    "        limit = limit - 1\n",
    "        \n",
    "\n"
   ]
  },
  {
   "cell_type": "code",
   "execution_count": 68,
   "metadata": {},
   "outputs": [
    {
     "data": {
      "text/plain": [
       "[4, 2, 1]"
      ]
     },
     "execution_count": 68,
     "metadata": {},
     "output_type": "execute_result"
    }
   ],
   "source": [
    "choose"
   ]
  }
 ],
 "metadata": {
  "kernelspec": {
   "display_name": "Python 3",
   "language": "python",
   "name": "python3"
  },
  "language_info": {
   "codemirror_mode": {
    "name": "ipython",
    "version": 3
   },
   "file_extension": ".py",
   "mimetype": "text/x-python",
   "name": "python",
   "nbconvert_exporter": "python",
   "pygments_lexer": "ipython3",
   "version": "3.11.4"
  }
 },
 "nbformat": 4,
 "nbformat_minor": 2
}
