{
 "cells": [
  {
   "cell_type": "code",
   "execution_count": 1,
   "metadata": {},
   "outputs": [],
   "source": [
    "a =[2 ,5 ,4 ,6 ,3 ,8 ,9 ,7]\n"
   ]
  },
  {
   "cell_type": "code",
   "execution_count": 2,
   "metadata": {},
   "outputs": [],
   "source": [
    "a = [999999999999999999999999] + a\n",
    "result = [0]*(len(a))\n",
    "result[1] = 1\n",
    "\n",
    "for i in range(1 ,len(a)):\n",
    "   for j in range(i-1 ,-1 ,-1):\n",
    "        if a[i] > a[j]:\n",
    "           result[i] = max(result[:j + 1]) + 1\n",
    "        \n",
    "           break\n",
    "        if a[i] == a[j]:\n",
    "           result[i] = max(result[:j + 1])\n",
    "           break\n",
    "\n",
    "result = result[1:]"
   ]
  },
  {
   "cell_type": "code",
   "execution_count": 3,
   "metadata": {},
   "outputs": [
    {
     "name": "stdout",
     "output_type": "stream",
     "text": [
      "count 5\n"
     ]
    }
   ],
   "source": [
    "print(\"count\",max(result))"
   ]
  },
  {
   "cell_type": "code",
   "execution_count": 4,
   "metadata": {},
   "outputs": [],
   "source": [
    "a = a[1:]\n"
   ]
  },
  {
   "cell_type": "code",
   "execution_count": 5,
   "metadata": {},
   "outputs": [],
   "source": [
    "temp = result.index(max(result))\n",
    "r = str(a[temp])\n",
    "while temp > 0 :\n",
    "    index = result.index(max(result[:temp]))\n",
    "    r = str(a[index]) + \" \" + r\n",
    "    temp = index\n"
   ]
  },
  {
   "cell_type": "code",
   "execution_count": 6,
   "metadata": {},
   "outputs": [
    {
     "data": {
      "text/plain": [
       "'2 5 6 8 9'"
      ]
     },
     "execution_count": 6,
     "metadata": {},
     "output_type": "execute_result"
    }
   ],
   "source": [
    "r"
   ]
  }
 ],
 "metadata": {
  "kernelspec": {
   "display_name": "Python 3",
   "language": "python",
   "name": "python3"
  },
  "language_info": {
   "codemirror_mode": {
    "name": "ipython",
    "version": 3
   },
   "file_extension": ".py",
   "mimetype": "text/x-python",
   "name": "python",
   "nbconvert_exporter": "python",
   "pygments_lexer": "ipython3",
   "version": "3.11.4"
  }
 },
 "nbformat": 4,
 "nbformat_minor": 2
}
