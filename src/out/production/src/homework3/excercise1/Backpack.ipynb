{
 "cells": [
  {
   "cell_type": "code",
   "execution_count": 6,
   "metadata": {},
   "outputs": [
    {
     "name": "stdout",
     "output_type": "stream",
     "text": [
      "Best value: 18.0\n",
      "Items chosen: [1, 1, 2, 1]\n"
     ]
    }
   ],
   "source": [
    "w = [50, 20, 85, 55, 25, 40, 30]  # Trọng lượng của các đồ vật\n",
    "v = [1, 1, 15, 2, .5, 1.5, 1]      # Giá trị của các đồ vật\n",
    "M = 150                            # Trọng lượng tối đa của cái túi\n",
    "w_min = min(w)                     # Trọng lượng nhỏ nhất của một đồ vật\n",
    "n = len(w)                         # Số lượng các đồ vật\n",
    "best = 0                           # Giá trị tốt nhất tìm được\n",
    "cost = 0                           # Giá trị tạm thời của các đồ vật được chọn\n",
    "weight = 0                         # Trọng lượng tạm thời của các đồ vật được chọn\n",
    "x = [-1]*(M//w_min+1)              # Mảng lưu các đồ vật được chọn (chỉ lưu index)\n",
    "items = []                         # Mảng lưu các đồ vật được chọn (lưu trọng lượng và giá trị)\n",
    "\n",
    "def branch_bound(i):\n",
    "    global best, cost, weight, items\n",
    "    \n",
    "    # Duyệt qua tất cả các đồ vật\n",
    "    for j in range(n):\n",
    "        # Nếu trọng lượng đồ vật j không vượt quá trọng lượng tối đa của cái túi\n",
    "        if weight + w[j] <= M:\n",
    "            x[i] = j             # Đánh dấu đồ vật j được chọn\n",
    "            cost += v[j]         # Cập nhật giá trị tạm thời\n",
    "            weight += w[j]       # Cập nhật trọng lượng tạm thời\n",
    "            \n",
    "            # Nếu trọng lượng tạm thời gần với trọng lượng tối đa của cái túi, kiểm tra xem giá trị tạm thời có lớn hơn giá trị tốt nhất đã tìm được không\n",
    "            if weight + w_min > M:\n",
    "                if cost > best:\n",
    "                    best = cost\n",
    "                    items = x[1:i+1]\n",
    "            else:\n",
    "                # Nếu giá trị tạm thời cộng với giá trị ước tính của các đồ vật còn lại lớn hơn giá trị tốt nhất đã tìm được, thực hiện duyệt nhánh tiếp theo\n",
    "                if cost + (M - weight) // w_min * 3 > best:\n",
    "                    branch_bound(i + 1)\n",
    "            \n",
    "            # Backtrack\n",
    "            cost -= v[j]\n",
    "            weight -= w[j]\n",
    "\n",
    "# Gọi hàm để thực hiện giải bài toán cái túi\n",
    "branch_bound(1)\n",
    "\n",
    "print(\"Best value:\", best)\n",
    "print(\"Items chosen:\", items)\n"
   ]
  }
 ],
 "metadata": {
  "kernelspec": {
   "display_name": "Python 3",
   "language": "python",
   "name": "python3"
  },
  "language_info": {
   "codemirror_mode": {
    "name": "ipython",
    "version": 3
   },
   "file_extension": ".py",
   "mimetype": "text/x-python",
   "name": "python",
   "nbconvert_exporter": "python",
   "pygments_lexer": "ipython3",
   "version": "3.10.1"
  }
 },
 "nbformat": 4,
 "nbformat_minor": 2
}
