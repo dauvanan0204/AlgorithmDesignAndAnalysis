{
 "cells": [
  {
   "cell_type": "code",
   "execution_count": 2,
   "metadata": {},
   "outputs": [
    {
     "name": "stdout",
     "output_type": "stream",
     "text": [
      "[5, 0, 5]\n"
     ]
    }
   ],
   "source": [
    "coins = [10, 6, 1]\n",
    "T = 55\n",
    "n = len(coins)\n",
    "greedy_solution = [0]*n\n",
    "def greedyChangeCoins(coins, T):\n",
    "    global n, greedy_solution\n",
    "    i = 0\n",
    "    while T > 0 and i < n:\n",
    "        k = T // coins[i]\n",
    "        greedy_solution[i] = k\n",
    "        T = T - k*coins[i]\n",
    "        i = i + 1\n",
    "    if (T > 0):\n",
    "        print(\"No solution\")\n",
    "    else:\n",
    "        print(greedy_solution)\n",
    "greedyChangeCoins(coins, T)"
   ]
  },
  {
   "cell_type": "code",
   "execution_count": 12,
   "metadata": {},
   "outputs": [
    {
     "name": "stdout",
     "output_type": "stream",
     "text": [
      "[(2, 2.0), (3, 1.5), (1, 1.0), (0, 0.5), (4, 0.16666666666666666)]\n",
      "[0, 1, 1, 1, 0]\n"
     ]
    }
   ],
   "source": [
    "w = [10,3,3,10,6]\n",
    "v = [5,3,6,15,1]\n",
    "T = 20\n",
    "\n",
    "def greedy_knapsack01(T, w, v):\n",
    "    n = len(w)\n",
    "    dict_units = {}\n",
    "    result = [0] * n\n",
    "    units = [0] * n\n",
    "    for i in range(0, n):\n",
    "        units[i] = v[i]/w[i]\n",
    "        dict_units[i] = units[i]\n",
    "    sorted_dict_units = sorted(dict_units.items(), key=lambda x:x[1], reverse=True)\n",
    "    print(sorted_dict_units)\n",
    "    i = 0\n",
    "    while (T > 0 and i < n):\n",
    "        if T >= w[sorted_dict_units[i][0]]:\n",
    "            result[sorted_dict_units[i][0]] = 1\n",
    "            T = T - w[sorted_dict_units[i][0]]\n",
    "        i = i + 1\n",
    "    print(result)\n",
    "\n",
    "greedy_knapsack01(T, w, v)"
   ]
  },
  {
   "cell_type": "code",
   "execution_count": 14,
   "metadata": {},
   "outputs": [
    {
     "name": "stdout",
     "output_type": "stream",
     "text": [
      "Minimum Spanning Tree Edges: {(0, 1), (0, 2), (0, 3)}\n"
     ]
    }
   ],
   "source": [
    "def prim(graph):\n",
    "    num_vertices = len(graph)\n",
    "    # Initialize sets for vertices and edges\n",
    "    VT = {0}  # Start from vertex 0\n",
    "    ET = set()\n",
    "\n",
    "    # Loop until all vertices are included in the MST\n",
    "    while len(VT) < num_vertices:\n",
    "        min_weight = float('inf')\n",
    "        min_edge = None\n",
    "\n",
    "        # Iterate through vertices in VT and find the minimum-weight edge\n",
    "        for v in VT:\n",
    "            for u in range(num_vertices):\n",
    "                if u not in VT and graph[v][u] < min_weight:\n",
    "                    min_weight = graph[v][u]\n",
    "                    min_edge = (v, u)\n",
    "\n",
    "        # Add the vertex with the minimum-weight edge to VT and the edge to ET\n",
    "        VT.add(min_edge[1])\n",
    "        ET.add(min_edge)\n",
    "\n",
    "    return ET\n",
    "\n",
    "# Example graph represented as an adjacency matrix\n",
    "graph = [\n",
    "    [0, 2, 3, 0],\n",
    "    [2, 0, 4, 5],\n",
    "    [3, 4, 0, 6],\n",
    "    [0, 5, 6, 0]\n",
    "]\n",
    "\n",
    "# Call Prim's algorithm with the example graph\n",
    "minimum_spanning_tree = prim(graph)\n",
    "print(\"Minimum Spanning Tree Edges:\", minimum_spanning_tree)\n"
   ]
  },
  {
   "cell_type": "code",
   "execution_count": 3,
   "metadata": {},
   "outputs": [
    {
     "name": "stdout",
     "output_type": "stream",
     "text": [
      "Selected activities: [(1, 3), (4, 7), (8, 10), (11, 14)]\n"
     ]
    }
   ],
   "source": [
    "def activity_selection(activities):\n",
    "    # Sort activities based on finish time\n",
    "    activities.sort(key =lambda x: x[1])\n",
    "    \n",
    "    # Initialize variables\n",
    "    selected_activities = [activities[0]]\n",
    "    last_finish_time = activities[0][1]\n",
    "    \n",
    "    # Iterate through activities\n",
    "    for activity in activities[1:]:\n",
    "        start_time, finish_time = activity\n",
    "        if start_time >= last_finish_time:\n",
    "            selected_activities.append(activity)\n",
    "            last_finish_time = finish_time\n",
    "    \n",
    "    return selected_activities\n",
    "\n",
    "# Example usage\n",
    "activities = [(1, 3), (2, 5), (4, 7), (1, 8), (8, 10), (5, 9), (11, 14), (9, 11), (13, 16)]\n",
    "selected = activity_selection(activities)\n",
    "print(\"Selected activities:\", selected)\n"
   ]
  }
 ],
 "metadata": {
  "kernelspec": {
   "display_name": "Python 3",
   "language": "python",
   "name": "python3"
  },
  "language_info": {
   "codemirror_mode": {
    "name": "ipython",
    "version": 3
   },
   "file_extension": ".py",
   "mimetype": "text/x-python",
   "name": "python",
   "nbconvert_exporter": "python",
   "pygments_lexer": "ipython3",
   "version": "3.10.1"
  }
 },
 "nbformat": 4,
 "nbformat_minor": 2
}
